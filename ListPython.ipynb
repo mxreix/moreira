{
  "nbformat": 4,
  "nbformat_minor": 0,
  "metadata": {
    "colab": {
      "provenance": [],
      "authorship_tag": "ABX9TyMIMNA3HghISxF5lIWkmnFk",
      "include_colab_link": true
    },
    "kernelspec": {
      "name": "python3",
      "display_name": "Python 3"
    },
    "language_info": {
      "name": "python"
    }
  },
  "cells": [
    {
      "cell_type": "markdown",
      "metadata": {
        "id": "view-in-github",
        "colab_type": "text"
      },
      "source": [
        "<a href=\"https://colab.research.google.com/github/mxreix/moreira/blob/main/ListPython.ipynb\" target=\"_parent\"><img src=\"https://colab.research.google.com/assets/colab-badge.svg\" alt=\"Open In Colab\"/></a>"
      ]
    },
    {
      "cell_type": "code",
      "execution_count": null,
      "metadata": {
        "id": "7ZZocXQjRBFr"
      },
      "outputs": [],
      "source": [
        "numero = float(input(\"Nº 1\"))\n",
        "numero2 = float(input(\"Nº2\"))\n",
        "soma = numero + numero2\n",
        "\n",
        "print(soma)"
      ]
    },
    {
      "cell_type": "code",
      "source": [
        "numero = int (input(\"Nº\"))\n",
        "#Processamento\n",
        "if numero % x ==0:\n",
        "  resultado = \"par\"\n",
        "else:\n",
        "  resultado = \"Impar\"\n",
        "\n",
        "print(resultado)"
      ],
      "metadata": {
        "id": "bGVWvIsTVVv2"
      },
      "execution_count": null,
      "outputs": []
    }
  ]
}